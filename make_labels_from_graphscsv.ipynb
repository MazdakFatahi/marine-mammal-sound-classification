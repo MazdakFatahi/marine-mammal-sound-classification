{
 "cells": [
  {
   "cell_type": "code",
   "execution_count": 29,
   "metadata": {},
   "outputs": [],
   "source": [
    "import os\n",
    "import shutil\n",
    "\n",
    "output_graphs_path = 'dataset/graphs'\n",
    "labels_path = 'dataset'\n",
    "from timeit import default_timer as timer\n",
    "\n",
    "s_time = timer()\n",
    "\n",
    "with open(f'{labels_path}/labels.csv', 'w') as f:\n",
    "    f.write(f'id,pos_label\\n')\n",
    "    with os.scandir(output_graphs_path) as files:\n",
    "        # loops through each file in the directory\n",
    "            for file in files:\n",
    "                if file.name.endswith('.jpg'):\n",
    "                    f.write(f'{str(file.name.split(\".\")[0])},{str(file.name[0:file.name.index(\"_\")])}\\n')\n",
    "                    # print(file.name.split('.')[0])\n",
    "    f.close()\n"
   ]
  }
 ],
 "metadata": {
  "kernelspec": {
   "display_name": "snnToolBox",
   "language": "python",
   "name": "python3"
  },
  "language_info": {
   "codemirror_mode": {
    "name": "ipython",
    "version": 3
   },
   "file_extension": ".py",
   "mimetype": "text/x-python",
   "name": "python",
   "nbconvert_exporter": "python",
   "pygments_lexer": "ipython3",
   "version": "3.8.10"
  },
  "orig_nbformat": 4,
  "vscode": {
   "interpreter": {
    "hash": "20a24a3a4007955ef5ee2dc9fb7716c1a03a2c0fc0e1cbee0d7177cafa6993b3"
   }
  }
 },
 "nbformat": 4,
 "nbformat_minor": 2
}
