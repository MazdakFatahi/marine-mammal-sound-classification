{
 "cells": [
  {
   "attachments": {},
   "cell_type": "markdown",
   "metadata": {},
   "source": [
    "## Generate the required graphs from the wave files:\n",
    "- melspectrogram_db: uses `librosa package`\n",
    "- spectogram:\n",
    "  By specifying the package, we can generate spectrogram using `pyplot package` or `librosa package`:\n",
    "  'pyplot', 'librosa-log' or 'librosa-linear'\n",
    "- cochleagram: uses `pycochleagram package` for generating the cochleagrams\n",
    "  \n",
    "In all cases, we need to specify the path for the generated graphs, the signal and the sampling frequency (rate) of the wave files"
   ]
  },
  {
   "attachments": {},
   "cell_type": "markdown",
   "metadata": {},
   "source": [
    "### generating mel-spectograms from the `Watkins Marine Mammal Sound Database`"
   ]
  },
  {
   "cell_type": "code",
   "execution_count": null,
   "metadata": {},
   "outputs": [],
   "source": [
    "\n",
    "from helper import signal_utils\n",
    "import soundfile as sf\n",
    "import os\n",
    "import shutil\n",
    "\n",
    "import matplotlib\n",
    "matplotlib.use('Agg')\n",
    "\n",
    "input_wavefiles_path='dataset/wavefiles'\n",
    "output_graphs_path = 'dataset/graphs'\n",
    "\n",
    "from timeit import default_timer as timer\n",
    "\n",
    "s_time = timer()\n",
    "\n",
    "N_FFT = 1024\n",
    "\n",
    "if os.path.exists(f'{output_graphs_path}'):\n",
    "    shutil.rmtree(f'{output_graphs_path}')\n",
    "os.mkdir(f'{output_graphs_path}')\n",
    "\n",
    "for file in os.listdir(input_wavefiles_path):\n",
    "    signal_array, samplig_rate = sf.read(f'{input_wavefiles_path}/{file}')\n",
    "    fig, _ = signal_utils.melspectrogram_db(signal_array=signal_array, samplig_rate=samplig_rate, fmax= samplig_rate//2,\n",
    "                                             out_spec_path=f'{output_graphs_path}/{str(file).split(\".\")[0]}.jpg', n_mels=90,\n",
    "                                               hop_length=512, n_fft=N_FFT,  cmap = 'jet', axis_off = True)\n",
    "print(timer() - s_time )\n"
   ]
  },
  {
   "attachments": {},
   "cell_type": "markdown",
   "metadata": {},
   "source": [
    "# Preparing dataset\n",
    "### Copy (move) the data to the coresponding folders (acording to the labels from the csv file). If the data is already devided, then this step is not required"
   ]
  },
  {
   "cell_type": "code",
   "execution_count": null,
   "metadata": {},
   "outputs": [],
   "source": [
    "from torchvision import transforms\n",
    "import torch\n",
    "from torch import optim\n",
    "from torch.utils.data import DataLoader\n",
    "import torch.nn as nn\n",
    "\n",
    "import warnings\n",
    "warnings.filterwarnings('ignore', category=FutureWarning)\n",
    "\n",
    "import numpy as np\n",
    "\n",
    "import matplotlib.pyplot as plt\n",
    "\n",
    "from helper import train_utils\n",
    "\n",
    "\n",
    "label_csv_file = 'dataset/labels.csv'\n",
    "path_all_graphs='dataset/graphs'#'dataset/challenge_wav/afew_output/X_train_plots'\n",
    "\n",
    "batch_size = 256\n",
    "epochs = 1\n",
    "\n",
    "transform =   transforms.Compose([\n",
    "        transforms.Resize((224, 224)),\n",
    "        transforms.ToTensor(),\n",
    "])\n",
    "\n",
    "\n",
    "src_data_dir = f'{path_all_graphs}'\n",
    "dest_data_dir =f'dataset/graph_classes'\n",
    "n_classes =  train_utils.prepare_data_classes_from_train(src_data_dir, dest_data_dir, label_csv_file, move=False)\n",
    "\n",
    "# Split the src trainset into train and test\n",
    "\n",
    "X_train, X_test = train_utils.split_train(dest_data_dir, 0.8, transform)\n",
    "train_dataloader = DataLoader(X_train, batch_size=batch_size, shuffle=True)\n",
    "test_dataloader = DataLoader(X_test, batch_size=batch_size, shuffle=True)"
   ]
  },
  {
   "attachments": {},
   "cell_type": "markdown",
   "metadata": {},
   "source": [
    "### Defining a model and train it"
   ]
  },
  {
   "cell_type": "code",
   "execution_count": null,
   "metadata": {},
   "outputs": [],
   "source": [
    "model = train_utils.get_pretrained_model('vgg16', n_classes)\n",
    "\n",
    "criterion = nn.NLLLoss()\n",
    "optimizer = optim.Adam(model.parameters())\n",
    "\n",
    "experience_name = f'Melspectogram Experiment_N_FFT_{N_FFT}_{batch_size}'\n",
    "print(f\"running on {experience_name}\")\n",
    "\n",
    "model, history = train_utils.train(\n",
    "    model = model,\n",
    "    criterion = criterion,\n",
    "    optimizer = optimizer,\n",
    "    train_loader = train_dataloader,\n",
    "    test_loader = test_dataloader,\n",
    "    n_epochs=epochs)\n",
    "\n"
   ]
  },
  {
   "attachments": {},
   "cell_type": "markdown",
   "metadata": {},
   "source": [
    "### test and save the results"
   ]
  },
  {
   "cell_type": "code",
   "execution_count": null,
   "metadata": {},
   "outputs": [],
   "source": [
    "print('Testing on 20% of trainSet...')\n",
    "acc_test_train  = train_utils.test(model,test_dataloader)\n",
    "torch.save(history,f'history_{experience_name}') \n",
    "\n",
    "print('##############################################\\n\\n\\n')\n",
    "with open(f'history_{experience_name}.txt', 'w') as fi:\n",
    "    fi.write(str(history))\n",
    "    fi.write('##############################################\\n\\n\\n')\n",
    "    fi.write(f'acc_test_train = {str(acc_test_train)}')\n",
    "    fi.close()"
   ]
  },
  {
   "attachments": {},
   "cell_type": "markdown",
   "metadata": {},
   "source": [
    "### Saving the trained model"
   ]
  },
  {
   "cell_type": "code",
   "execution_count": null,
   "metadata": {},
   "outputs": [],
   "source": [
    "# torch.save(model, f'model_{experience_name}') "
   ]
  },
  {
   "attachments": {},
   "cell_type": "markdown",
   "metadata": {},
   "source": [
    "### Loading the saved results and plotting graphs"
   ]
  },
  {
   "cell_type": "code",
   "execution_count": 22,
   "metadata": {},
   "outputs": [],
   "source": [
    "# %matplotlib\n",
    "plt.ion()\n",
    "import torch\n",
    "import numpy as np\n",
    "history = torch.load(f'history_{experience_name}')\n",
    "acc = []\n",
    "for h in history:\n",
    "    acc.append(h[0]*100)\n",
    "import matplotlib\n",
    "import matplotlib.pyplot as plt\n",
    "plt.figure(figsize=(20,10))\n",
    "\n",
    "plt.plot(np.arange(0,epochs), acc, linewidth=7.0)\n",
    "plt.text(x=10, y=70, s=f'max: {max(acc):.2f}% @ epoch {np.argmax(acc)}')\n",
    "matplotlib.rcParams.update({'font.size': 50})"
   ]
  }
 ],
 "metadata": {
  "kernelspec": {
   "display_name": "snnToolBox",
   "language": "python",
   "name": "python3"
  },
  "language_info": {
   "codemirror_mode": {
    "name": "ipython",
    "version": 3
   },
   "file_extension": ".py",
   "mimetype": "text/x-python",
   "name": "python",
   "nbconvert_exporter": "python",
   "pygments_lexer": "ipython3",
   "version": "3.8.10 (default, Mar 13 2023, 10:26:41) \n[GCC 9.4.0]"
  },
  "orig_nbformat": 4,
  "vscode": {
   "interpreter": {
    "hash": "20a24a3a4007955ef5ee2dc9fb7716c1a03a2c0fc0e1cbee0d7177cafa6993b3"
   }
  }
 },
 "nbformat": 4,
 "nbformat_minor": 2
}
